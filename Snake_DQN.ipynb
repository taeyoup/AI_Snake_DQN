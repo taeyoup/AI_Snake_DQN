{
 "cells": [
  {
   "cell_type": "code",
   "execution_count": 1,
   "id": "fe104c30",
   "metadata": {
    "executionInfo": {
     "elapsed": 6,
     "status": "ok",
     "timestamp": 1670771530787,
     "user": {
      "displayName": "장태엽",
      "userId": "00591947324718372422"
     },
     "user_tz": -540
    },
    "id": "fe104c30"
   },
   "outputs": [],
   "source": [
    "import numpy as np\n",
    "import random, time\n",
    "import matplotlib.pyplot as plt\n",
    "from IPython.display import clear_output"
   ]
  },
  {
   "cell_type": "code",
   "execution_count": 2,
   "id": "2f8b1523",
   "metadata": {
    "id": "2f8b1523"
   },
   "outputs": [],
   "source": [
    "class m_snake:\n",
    "    \n",
    "    def __init__(self):\n",
    "        \n",
    "        self.action_space = [0,1,2,3]\n",
    "        self.Directions = np.array([\n",
    "            [0, 1], [1, 0 ], [0, -1], [-1,0] \n",
    "            ])\n",
    "        self.screen_size = 10\n",
    "        self.time_limit   = 5\n",
    "        self.observation_space = (self.screen_size, self.screen_size)\n",
    "        \n",
    "        \n",
    "    def reset(self):\n",
    "        init_p = self.screen_size//2 # 5\n",
    "        self.snake = np.array([[init_p, init_p], [init_p-1,init_p], [init_p-2,init_p]])\n",
    "        self.head = self.snake[0]\n",
    "        self.score = 0\n",
    "        self.health = int(self.screen_size * self.time_limit)\n",
    "        self.place_fruit()\n",
    "        self.get_state()\n",
    "        self.done = False\n",
    "        return self.state\n",
    "        \n",
    "    def get_state(self):\n",
    "        self.state = np.zeros([self.screen_size+2, self.screen_size+2])\n",
    "        for s in self.snake: #snake\n",
    "            self.state[s[0]+1,s[1]+1] = 1 # 몸통\n",
    "        self.state[self.fruit[0]+1,self.fruit[1]+1] = 2.  #fruit\n",
    "        self.state[self.head[0]+1, self.head[1]+1] = 3. #snake head\n",
    "        self.state[0,:]=-1. #wall\n",
    "        self.state[-1, :]= -1. #wall\n",
    "        self.state[:,0]= -1. #wall\n",
    "        self.state[:,-1]= -1. #wall\n",
    "        pass\n",
    "        \n",
    "    def place_fruit(self):\n",
    "        \n",
    "        while True:\n",
    "            x = random.randint(0, self.screen_size-1)\n",
    "            y = random.randint(0, self.screen_size-1)\n",
    "            if [x,y] not in [ list(s) for s in self.snake]:\n",
    "                break\n",
    "        self.fruit = np.array([x,y])\n",
    "        pass\n",
    "    \n",
    "    def step(self, a):\n",
    "        \n",
    "        reward = 0\n",
    "        move = self.Directions[a] \n",
    "        new_head = self.head + np.array(move)\n",
    "        self.mytest = np.sum(np.abs(self.snake[:-1]-new_head),axis=1) \n",
    "        \n",
    "        # crash on the wall\n",
    "        if ( new_head[0] not in list(range(self.screen_size)) or\n",
    "            new_head[1] not in list(range(self.screen_size)) ):\n",
    "                      \n",
    "            self.done = True\n",
    "            reward = -1\n",
    "        \n",
    "        # crash on itself\n",
    "        if 0 in np.sum(np.abs(self.snake[:-1]-new_head),axis=1):\n",
    "            self.done = True\n",
    "            reward = -1\n",
    "        \n",
    "        # eat a fruit\n",
    "        if all(new_head == self.fruit):\n",
    "            self.score +=1\n",
    "            reward = 1 \n",
    "            self.health = int(self.time_limit * self.screen_size)+1\n",
    "            # grow condition\n",
    "            if self.snake.shape[0] < 12:\n",
    "                self.snake = np.concatenate([[new_head], self.snake], axis=0)\n",
    "            else:\n",
    "                self.snake = np.concatenate([[new_head], self.snake[:-1]], axis=0)\n",
    "            self.place_fruit()\n",
    "        else:\n",
    "            self.snake = np.concatenate([[new_head], self.snake[:-1]], axis=0) \n",
    "        \n",
    "            \n",
    "        \n",
    "        self.head = self.snake[0]\n",
    "        self.get_state()\n",
    "        self.health -= 1\n",
    "        \n",
    "        # time limit check\n",
    "        if self.health < 0:\n",
    "            self.done = True\n",
    "            reward = -1\n",
    "        \n",
    "        ## achieve the goal\n",
    "        if self.score >=100:\n",
    "            self.done = True\n",
    "            \n",
    "        return self.state, reward, self.done, [self.score, self.health]\n",
    "    \n",
    "    def render(self):\n",
    "        clear_output(True)\n",
    "        plt.figure(figsize=(4,4))\n",
    "        plt.imshow(self.state)\n",
    "        plt.title('Score:%3s     Health: %3s' %(self.score, self.health))\n",
    "        plt.axis('off')\n",
    "        plt.show()\n",
    "        time.sleep(.5)"
   ]
  },
  {
   "cell_type": "code",
   "execution_count": 3,
   "id": "730d3203",
   "metadata": {
    "id": "730d3203",
    "outputId": "b0ed235b-48b0-4b37-96fe-a851bb2ee37d"
   },
   "outputs": [
    {
     "data": {
      "image/png": "[encoded data removed]",
      "text/plain": [
       "<Figure size 400x400 with 1 Axes>"
      ]
     },
     "metadata": {},
     "output_type": "display_data"
    }
   ],
   "source": [
    "env = m_snake()\n",
    "env.reset()\n",
    "d = False\n",
    "total_r = 0\n",
    "while not d:\n",
    "    a = random.randint(0,3)\n",
    "    _, r, d, _ = env.step(a)\n",
    "    env.render()\n",
    "    total_r +=r\n",
    "\n"
   ]
  },
  {
   "cell_type": "code",
   "execution_count": 4,
   "id": "046fe997",
   "metadata": {
    "id": "046fe997"
   },
   "outputs": [],
   "source": [
    "import numpy as np\n",
    "import random, math\n",
    "import torch\n",
    "import torch.nn as nn\n",
    "import torch.nn.functional as F\n",
    "from collections import deque\n",
    "import torch.optim as optim\n",
    "import matplotlib.pyplot as plt\n",
    "from IPython.display import clear_output"
   ]
  },
  {
   "cell_type": "code",
   "execution_count": 5,
   "id": "0ddc4db4",
   "metadata": {
    "id": "0ddc4db4"
   },
   "outputs": [],
   "source": [
    "class Qagent(torch.nn.Module):\n",
    "    \n",
    "    def __init__(self, env):\n",
    "        super(Qagent, self).__init__()\n",
    "        \n",
    "        self.env = env\n",
    "        self.input_dim = 5\n",
    "        self.output_dim = 4\n",
    "        self.fc1 = nn.Linear(self.input_dim, 120)\n",
    "        self.dropout1 = nn.Dropout(0.15)\n",
    "        self.fc2 = nn.Linear(120, 240)\n",
    "        self.dropout2 = nn.Dropout(0.15)\n",
    "        self.fc3 = nn.Linear(240, self.output_dim)\n",
    "\n",
    "    def forward(self, x):\n",
    "        x = self.fc1(x)\n",
    "        x = F.relu(x)\n",
    "        x = self.dropout1(x)\n",
    "        x = self.fc2(x)\n",
    "        x = F.relu(x)\n",
    "        x = self.dropout2(x)\n",
    "        x = self.fc3(x)\n",
    "        return x\n",
    "        \n",
    "    def get_agent_state(self):\n",
    "        dist = np.sum((self.env.head-self.env.fruit)**2)\n",
    "        agent_state = np.concatenate([self.env.head,self.env.fruit, [dist]], axis=0)\n",
    "        agent_state = agent_state/self.env.screen_size\n",
    "        return agent_state\n",
    "    \n",
    "    def action(self, state, epsilon=0):\n",
    "        agent_state = self.get_agent_state()\n",
    "        qvalues = self.forward(torch.from_numpy(agent_state).float())\n",
    "        coin = random.random()\n",
    "        # epsilon-greedy action 선택\n",
    "        if coin < epsilon:\n",
    "            a = random.randint(0,self.output_dim-1)\n",
    "        else : \n",
    "            a = qvalues.argmax().item() \n",
    "    \n",
    "        return a \n",
    "    \n",
    "    def test(self, test_num, render_op=False):\n",
    "        \n",
    "        reward_history =[]\n",
    "        \n",
    "        for i in range(test_num):\n",
    "            s = self.env.reset()\n",
    "            d = False\n",
    "            epi_r = 0\n",
    "            \n",
    "            while not d:\n",
    "                \n",
    "                if render_op:\n",
    "                    self.env.render()\n",
    "                a = self.action(s, epsilon=0) #greedy action     \n",
    "                s, r, d, info = self.env.step(a)\n",
    "                epi_r += r\n",
    "            \n",
    "            reward_history.append(epi_r)\n",
    "            if render_op:\n",
    "                print(\"{}-번째 테스크 결과는 {}\".format(i+1, epi_r))\n",
    "                time.sleep(3)\n",
    "            \n",
    "        if render_op:\n",
    "            print(\"{}-번 게임의 평균 점수는 {}, 최고점수는 {}\".format(test_num, np.mean(reward_history),np.max(reward_history)))\n",
    "        else:\n",
    "            return np.mean(reward_history)\n",
    "        \n",
    "        \n",
    "    def save_models(self, name=None):\n",
    "        if name == None:\n",
    "            name = 'noname'\n",
    "        torch.save(self.state_dict(), name + '_qnet.pt')\n",
    "        print('Models saved successfully')\n",
    "    \n",
    "    def load_models(self, name=None):\n",
    "        if name ==None:\n",
    "            name = 'noname'\n",
    "        self.load_state_dict(torch.load(name + '_qnet.pt'))\n",
    "        print ('Models loaded succesfully')"
   ]
  },
  {
   "cell_type": "code",
   "execution_count": 6,
   "id": "af3bb1ae",
   "metadata": {
    "id": "af3bb1ae"
   },
   "outputs": [],
   "source": [
    "class ReplayBuffer:\n",
    "    \n",
    "    def __init__(self, buffer_limit, mini_size):\n",
    "        \n",
    "        self.buffer = deque(maxlen=buffer_limit)\n",
    "        self.batch_size = mini_size\n",
    "    \n",
    "    \n",
    "    def put(self, sarsd):\n",
    "        self.buffer.append(sarsd)\n",
    "    \n",
    "    def sample(self):\n",
    "        mini_batch = random.sample(self.buffer, self.batch_size)\n",
    "        s_list, a_list, r_list, s_prime_list, done_list = [], [], [], [], []\n",
    "        \n",
    "        for sarsd in mini_batch:\n",
    "            s, a, r, s_prime, done = sarsd\n",
    "            s_list.append(s)\n",
    "            a_list.append([a])\n",
    "            r_list.append([r])\n",
    "            s_prime_list.append(s_prime)\n",
    "            done_list.append([done])\n",
    "\n",
    "        return torch.FloatTensor(np.array(s_list)), torch.tensor(np.array(a_list), dtype=int),\\\n",
    "                torch.FloatTensor(np.array(r_list)), torch.FloatTensor(np.array(s_prime_list)),\\\n",
    "                torch.FloatTensor(np.array(done_list))\n",
    "    \n",
    "    def size(self):\n",
    "        return len(self.buffer)"
   ]
  },
  {
   "cell_type": "code",
   "execution_count": 7,
   "id": "b93331f5",
   "metadata": {
    "id": "b93331f5"
   },
   "outputs": [],
   "source": [
    "class DQN:\n",
    "\n",
    "    def __init__(self, agent, hps):\n",
    "        \n",
    "        self.agent = agent\n",
    "        self.env   = self.agent.env\n",
    "        self.targetA = Qagent(self.env)\n",
    "        self.targetupdate()\n",
    "        test_env = m_snake()\n",
    "        self.testA = Qagent(test_env)\n",
    "        self.targetupdate()\n",
    "        self.hps     = hps\n",
    "        \n",
    "        self.lrate = self.hps.lr\n",
    "        self.gamma = self.hps.gamma\n",
    "        self.ram =  ReplayBuffer(self.hps.buffersize, self.hps.minibatchsize)\n",
    "        self.target_update_interval = self.hps.target_update_interval\n",
    "        \n",
    "        self.update_ctr = 0\n",
    "        self.training_ctr = 0\n",
    "        \n",
    "        self.optimizer = optim.Adam(self.agent.parameters(), lr=self.lrate)\n",
    "        \n",
    "    \n",
    "    def targetupdate(self):\n",
    "        return self.targetA.load_state_dict(self.agent.state_dict())\n",
    "    \n",
    "    def plot(self, frame_idx, rewards, test_score, losses):\n",
    "        clear_output(True)\n",
    "        plt.figure(figsize=(12,6))\n",
    "        plt.subplot(131)\n",
    "        plt.title('Frame %s k. last 10 epi reward mean: %.2f' % (int(frame_idx/1000), np.mean(rewards[-10:])))\n",
    "        plt.plot(rewards, 'k-')\n",
    "        plt.subplot(132)\n",
    "        plt.title('Test Score')\n",
    "        plt.plot(test_score, 'r--')\n",
    "        plt.subplot(133)\n",
    "        plt.title('Loss')\n",
    "        plt.plot(losses)\n",
    "        plt.savefig(str(self.hps.save_file_name)+'.png')\n",
    "        plt.show()\n",
    "    \n",
    "    \n",
    "    def train(self):\n",
    "            \n",
    "        s,a,r,s_prime,done = self.ram.sample()\n",
    "        qvalues = self.agent(s)\n",
    "        q_a = qvalues.gather(1,a)\n",
    "        with torch.no_grad():\n",
    "            max_q_sprime = self.targetA(s_prime).max(1)[0].unsqueeze(1)\n",
    "        target = r + self.gamma * max_q_sprime * done\n",
    "        loss = F.mse_loss(q_a, target)\n",
    "        \n",
    "        self.optimizer.zero_grad()\n",
    "        loss.backward()\n",
    "        self.optimizer.step()\n",
    "        \n",
    "        return loss.item()\n",
    "            \n",
    "    def learning(self):\n",
    "        self.reward_history =[]\n",
    "        self.test_history = []\n",
    "        self.loss_history =[]\n",
    "        \n",
    "        ep = lambda frame_num : self.hps.min_ep + (self.hps.init_ep - self.hps.min_ep) * math.exp(-1. * frame_num / self.hps.decay) \n",
    "        \n",
    "        s = self.env.reset()\n",
    "        d = False\n",
    "        epi_r = 0\n",
    "            \n",
    "        \n",
    "        while self.training_ctr < self.hps.num_training:\n",
    "            epsilon = ep(self.training_ctr)\n",
    "            agent_s = self.agent.get_agent_state()\n",
    "            a = self.agent.action(s, epsilon) \n",
    "            s_prime, r, d, info = self.env.step(a)\n",
    "            epi_r += r\n",
    "            done = 0.0 if d else 1.0\n",
    "            agent_sp = self.agent.get_agent_state()\n",
    "            if r<1:\n",
    "                if 0 in env.mytest: r += -1  \n",
    "                else :\n",
    "                    dist_change = agent_s[-1]-agent_sp[-1]\n",
    "                    r += dist_change/3  \n",
    "                \n",
    "            \n",
    "            self.ram.put((agent_s,a,r/50.0, agent_sp, done))\n",
    "            if d:\n",
    "                s = self.env.reset()\n",
    "                d = False\n",
    "                self.reward_history.append(epi_r)\n",
    "                epi_r = 0\n",
    "            else:\n",
    "                s = s_prime\n",
    "            \n",
    "            \n",
    "            if self.ram.size()> self.hps.start_from:\n",
    "                self.update_ctr +=1\n",
    "                loss = self.train()\n",
    "                self.loss_history.append(loss)\n",
    "                \n",
    "            if (self.update_ctr +1) % self.target_update_interval ==0:\n",
    "                self.targetupdate()\n",
    "            \n",
    "            if (self.training_ctr+1)%self.hps.print_interval==0:\n",
    "                self.testA.load_state_dict(self.agent.state_dict())\n",
    "                self.test_history.append(self.testA.test(20))\n",
    "                if np.max(self.test_history) == self.test_history[-1]:\n",
    "                    self.agent.save_models(self.hps.save_file_name)\n",
    "                self.plot(self.training_ctr+1, self.reward_history, self.test_history, self.loss_history)\n",
    "                time.sleep(5)\n",
    "            self.training_ctr +=1\n",
    "    "
   ]
  },
  {
   "cell_type": "code",
   "execution_count": 8,
   "id": "00a04873",
   "metadata": {
    "id": "00a04873"
   },
   "outputs": [],
   "source": [
    "# hyper parameters\n",
    "class hp:   #collection of hyper parameters\n",
    "    def __init__(self):\n",
    "        \n",
    "        self.save_file_name = 'm_snake_ex' \n",
    "        \n",
    "        self.lr = 1e-4\n",
    "        self.gamma = 0.99\n",
    "        self.num_training = int(50e4)\n",
    "        self.buffersize = int(2e4) \n",
    "        self.minibatchsize = 32 \n",
    "        self.start_from = int(1e3)\n",
    "        self.print_interval = int(5e3)\n",
    "        self.target_update_interval = int(5e3)\n",
    "        self.init_ep = 1\n",
    "        self.min_ep = 0.01\n",
    "        self.decay = int(1e4)"
   ]
  },
  {
   "cell_type": "code",
   "execution_count": 9,
   "id": "ce70f001",
   "metadata": {
    "id": "ce70f001"
   },
   "outputs": [],
   "source": [
    "env = m_snake()\n",
    "agent = Qagent(env)\n",
    "hps = hp()\n",
    "trainer = DQN(agent, hps)"
   ]
  },
  {
   "cell_type": "code",
   "execution_count": null,
   "id": "1443cbb9",
   "metadata": {
    "id": "1443cbb9",
    "outputId": "c6cb78ef-7080-44bc-daa1-fb3489628574",
    "scrolled": true
   },
   "outputs": [
    {
     "data": {
      "image/png": "[encoded data removed]",
      "text/plain": [
       "<Figure size 1200x600 with 3 Axes>"
      ]
     },
     "metadata": {},
     "output_type": "display_data"
    }
   ],
   "source": [
    "trainer.learning()"
   ]
  },
  {
   "cell_type": "markdown",
   "id": "a536ac85",
   "metadata": {
    "id": "a536ac85"
   },
   "source": [
    "훈련시킨 Agent가 50번 게임했을 때 평균점수를 출력"
   ]
  },
  {
   "cell_type": "code",
   "execution_count": 15,
   "id": "f20e2c9f",
   "metadata": {
    "id": "f20e2c9f",
    "outputId": "21b65ff0-3855-489b-8fc7-6fe5f32b894a"
   },
   "outputs": [
    {
     "name": "stdout",
     "output_type": "stream",
     "text": [
      "Models loaded succesfully\n"
     ]
    },
    {
     "data": {
      "text/plain": [
       "8.9"
      ]
     },
     "execution_count": 15,
     "metadata": {},
     "output_type": "execute_result"
    }
   ],
   "source": [
    "agent.load_models('m_snake_ex')\n",
    "#agent.test(1,True)\n",
    "agent.test(50)\n",
    "\n",
    "\n"
   ]
  },
  {
   "cell_type": "markdown",
   "id": "cacfcc5c",
   "metadata": {
    "id": "cacfcc5c"
   },
   "source": [
    "<h3> 3번 (배점 10점) 강화학습의 아이디어를 이용하여 해결할 수 있는 문제 (게임 및 자율주행은 제외)를 하나 제시하고, 어떤 방법으로 해결할 수 있다고 생각하는지 본인의 아이디어를 설명하시오. "
   ]
  }
 ],
 "metadata": {
  "colab": {
   "provenance": []
  },
  "kernelspec": {
   "display_name": "Python 3 (ipykernel)",
   "language": "python",
   "name": "python3"
  },
  "language_info": {
   "codemirror_mode": {
    "name": "ipython",
    "version": 3
   },
   "file_extension": ".py",
   "mimetype": "text/x-python",
   "name": "python",
   "nbconvert_exporter": "python",
   "pygments_lexer": "ipython3",
   "version": "3.7.13"
  }
 },
 "nbformat": 4,
 "nbformat_minor": 5
}
